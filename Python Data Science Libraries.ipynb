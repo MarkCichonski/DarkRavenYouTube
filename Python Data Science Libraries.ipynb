{
 "cells": [
  {
   "cell_type": "code",
   "execution_count": null,
   "metadata": {},
   "outputs": [],
   "source": [
    "#NUMPY\n",
    "#https://numpy.org/doc/stable/index.html\n",
    "#https://www.w3schools.com/python/numpy_intro.asp"
   ]
  },
  {
   "cell_type": "code",
   "execution_count": null,
   "metadata": {},
   "outputs": [],
   "source": [
    "import numpy as np\n",
    "np.set_printoptions(suppress=True, precision=3)"
   ]
  },
  {
   "cell_type": "code",
   "execution_count": null,
   "metadata": {},
   "outputs": [],
   "source": [
    "#From Winning the NBA Bracket-making an array\n",
    "known_years = np.arange(1990, 2021).astype(np.int64)\n",
    "known_years"
   ]
  },
  {
   "cell_type": "code",
   "execution_count": null,
   "metadata": {},
   "outputs": [],
   "source": [
    "#Math functions\n",
    "np.mean([1,4,3,2,6,4,4,3,2,6])"
   ]
  },
  {
   "cell_type": "code",
   "execution_count": null,
   "metadata": {},
   "outputs": [],
   "source": [
    "np.var([1,3,3,6,3,2,7,5,9,1])"
   ]
  },
  {
   "cell_type": "code",
   "execution_count": null,
   "metadata": {},
   "outputs": [],
   "source": [
    "import pyjet"
   ]
  },
  {
   "cell_type": "code",
   "execution_count": null,
   "metadata": {},
   "outputs": [],
   "source": [
    "#PATH FINDING\n",
    "#Path finding is all about finding the shortest path in a graph. This can be split in two distinct problems\n",
    "#: to find a path between two nodes in a graph and to find the shortest path. We'll illustrate this through path \n",
    "#finding in a maze. \n",
    "\n",
    "# -----------------------------------------------------------------------------\n",
    "# From Numpy to Python\n",
    "# Copyright (2017) Nicolas P. Rougier - BSD license\n",
    "# More information at https://github.com/rougier/numpy-book\n",
    "# -----------------------------------------------------------------------------\n",
    "import numpy as np\n",
    "from collections import deque\n",
    "import matplotlib.pyplot as plt\n",
    "from scipy.ndimage import generic_filter\n",
    "\n",
    "\n",
    "def build_maze(shape=(65,65), complexity=0.75, density = 0.50):\n",
    "    \"\"\"\n",
    "    Build a maze using given complexity and density\n",
    "\n",
    "    Parameters\n",
    "    ==========\n",
    "\n",
    "    shape : (rows,cols)\n",
    "      Size of the maze\n",
    "\n",
    "    complexity: float\n",
    "      Mean length of islands (as a ratio of maze size)\n",
    "\n",
    "    density: float\n",
    "      Mean numbers of highland (as a ratio of maze surface)\n",
    "\n",
    "    \"\"\"\n",
    "    \n",
    "    # Only odd shapes\n",
    "    shape = ((shape[0]//2)*2+1, (shape[1]//2)*2+1)\n",
    "\n",
    "    # Adjust complexity and density relatively to maze size\n",
    "    n_complexity = int(complexity*(shape[0]+shape[1]))\n",
    "    n_density    = int(density*(shape[0]*shape[1]))\n",
    "\n",
    "    # Build actual maze\n",
    "    Z = np.zeros(shape, dtype=bool)\n",
    "\n",
    "    # Fill borders\n",
    "    Z[0,:] = Z[-1,:] = Z[:,0] = Z[:,-1] = 1\n",
    "\n",
    "    # Islands starting point with a bias in favor of border\n",
    "    P = np.random.normal(0, 0.5, (n_density,2))\n",
    "    P = 0.5 - np.maximum(-0.5, np.minimum(P, +0.5))\n",
    "    P = (P*[shape[1],shape[0]]).astype(int)\n",
    "    P = 2*(P//2)\n",
    "    \n",
    "    # Create islands\n",
    "    for i in range(n_density):\n",
    "\n",
    "        # Test for early stop: if all starting point are busy, this means we\n",
    "        # won't be able to connect any island, so we stop.\n",
    "        T = Z[2:-2:2,2:-2:2]\n",
    "        if T.sum() == T.size:\n",
    "            break\n",
    "\n",
    "        x, y = P[i]\n",
    "        Z[y,x] = 1\n",
    "        for j in range(n_complexity):\n",
    "            neighbours = []\n",
    "            if x > 1:\n",
    "                neighbours.append([(y, x-1), (y, x-2)])\n",
    "            if x < shape[1]-2:\n",
    "                neighbours.append([(y, x+1), (y, x+2)])\n",
    "            if y > 1:\n",
    "                neighbours.append([(y-1, x), (y-2, x)])\n",
    "            if y < shape[0]-2:\n",
    "                neighbours.append([(y+1, x), (y+2, x)])\n",
    "            if len(neighbours):\n",
    "                choice = np.random.randint(len(neighbours))\n",
    "                next_1, next_2 = neighbours[choice]\n",
    "                if Z[next_2] == 0:\n",
    "                    Z[next_1] = Z[next_2] = 1\n",
    "                    y, x = next_2\n",
    "            else:\n",
    "                break\n",
    "    return Z\n",
    "\n",
    "\n",
    "# ------------------------------------------------------ find_shortest_path ---\n",
    "def BellmanFord(Z, start, goal):\n",
    "\n",
    "    # We reserve Z such that walls have value 0\n",
    "    Z = 1 - Z\n",
    "    \n",
    "    # Build gradient array\n",
    "    G = np.zeros(Z.shape)\n",
    "\n",
    "    # Initialize gradient at the entrance with value 1\n",
    "    G[start] = 1\n",
    "\n",
    "    # Discount factor\n",
    "    gamma = 0.99\n",
    "    \n",
    "    def diffuse(Z):\n",
    "        # North, West, Center, East, South\n",
    "        return max(gamma*Z[0], gamma*Z[1], Z[2], gamma*Z[3], gamma*Z[4])\n",
    "\n",
    "    # Shortest path in best case cannot be less the Manhattan distance\n",
    "    # from entrance to exit\n",
    "    length = Z.shape[0]+Z.shape[1]\n",
    "\n",
    "    # We iterate until value at exit is > 0. This requires the maze\n",
    "    # to have a solution or it will be stuck in the loop.\n",
    "\n",
    "    G_gamma = np.empty_like(G)\n",
    "    while G[goal] == 0.0:\n",
    "        # Slow\n",
    "        # G = Z * generic_filter(G, diffuse, footprint=[[0, 1, 0],\n",
    "        #                                               [1, 1, 1],\n",
    "        #                                               [0, 1, 0]])\n",
    "\n",
    "        # Fast\n",
    "        np.multiply(G, gamma, out=G_gamma)\n",
    "        N = G_gamma[0:-2,1:-1]\n",
    "        W = G_gamma[1:-1,0:-2]\n",
    "        C = G[1:-1,1:-1]\n",
    "        E = G_gamma[1:-1,2:]\n",
    "        S = G_gamma[2:,1:-1]\n",
    "        G[1:-1,1:-1] = Z[1:-1,1:-1]*np.maximum(N,np.maximum(W,np.maximum(C,np.maximum(E,S))))\n",
    "    \n",
    "    # Descent gradient to find shortest path from entrance to exit\n",
    "    y, x = goal\n",
    "    P = []\n",
    "    dirs = [(0,-1), (0,+1), (-1,0), (+1,0)]\n",
    "    while (x, y) != start:\n",
    "        P.append((x, y))\n",
    "        neighbours = [-1, -1, -1, -1]\n",
    "        if x > 0:\n",
    "            neighbours[0] = G[y, x-1]\n",
    "        if x < G.shape[1]-1:\n",
    "            neighbours[1] = G[y, x+1]\n",
    "        if y > 0:\n",
    "            neighbours[2] = G[y-1, x]\n",
    "        if y < G.shape[0]-1:\n",
    "            neighbours[3] = G[y+1, x]\n",
    "        a = np.argmax(neighbours)\n",
    "        x, y  = x + dirs[a][1], y + dirs[a][0]\n",
    "    P.append((x, y))\n",
    "    return G, np.array(P)\n",
    "\n",
    "def build_graph(maze):\n",
    "    height, width = maze.shape\n",
    "    graph = {(i, j): [] for j in range(width) for i in range(height) if not maze[i][j]}\n",
    "    for row, col in graph.keys():\n",
    "        if row < height - 1 and not maze[row + 1][col]:\n",
    "            graph[(row, col)].append((\"S\", (row + 1, col)))\n",
    "            graph[(row + 1, col)].append((\"N\", (row, col)))\n",
    "        if col < width - 1 and not maze[row][col + 1]:\n",
    "            graph[(row, col)].append((\"E\", (row, col + 1)))\n",
    "            graph[(row, col + 1)].append((\"W\", (row, col)))\n",
    "    return graph\n",
    "\n",
    "def BreadthFirst(maze, start, goal):\n",
    "    queue = deque([([start], start)])\n",
    "    visited = set()\n",
    "    graph = build_graph(maze)\n",
    "    while queue:\n",
    "        path, current = queue.popleft()\n",
    "        if current == goal:\n",
    "            return np.array(path)\n",
    "        if current in visited:\n",
    "            continue\n",
    "        visited.add(current)\n",
    "        for direction, neighbour in graph[current]:\n",
    "            p = list(path)\n",
    "            p.append(neighbour)\n",
    "            queue.append((p, neighbour))\n",
    "    return None\n",
    "\n",
    "\n",
    "# -------------------------------------------------------------------- main ---\n",
    "if __name__ == '__main__':\n",
    "\n",
    "    Z = build_maze((41,81))\n",
    "    start, goal = (1,1), (Z.shape[0]-2, Z.shape[1]-2)\n",
    "    \n",
    "    G, P = BellmanFord(Z, start, goal)\n",
    "    X, Y = P[:,0], P[:,1]\n",
    "        \n",
    "    # P = BreadthFirst(Z, start, goal)\n",
    "    # X, Y = P[:,1], P[:,0]\n",
    "    \n",
    "    # Visualization maze, gradient and shortest path\n",
    "    plt.figure(figsize=(13, 13*Z.shape[0]/Z.shape[1]))\n",
    "    ax = plt.subplot(1, 1, 1, frameon=False)\n",
    "    ax.imshow(Z, interpolation='nearest', cmap=plt.cm.gray_r, vmin=0.0, vmax=1.0)\n",
    "    cmap = plt.cm.hot\n",
    "    cmap.set_under(color='k', alpha=0.0)\n",
    "    ax.imshow(G, interpolation='nearest', cmap=cmap, vmin=0.01, vmax=G[start])\n",
    "    ax.scatter(X[1:-1], Y[1:-1], s=60,\n",
    "               lw=1, marker='o', edgecolors='k', facecolors='w')\n",
    "    ax.scatter(X[[0,-1]], Y[[0,-1]], s=60,\n",
    "               lw=3, marker='x', color=['w','k'])\n",
    "    ax.set_xticks([])\n",
    "    ax.set_yticks([])\n",
    "    plt.tight_layout()\n",
    "    plt.savefig(\"maze.png\")\n",
    "    plt.show()"
   ]
  },
  {
   "cell_type": "code",
   "execution_count": null,
   "metadata": {},
   "outputs": [],
   "source": [
    "class ECDF:\n",
    "    \"\"\"\n",
    "    One-dimensional empirical distribution function given a vector of\n",
    "    observations.\n",
    "\n",
    "    Parameters\n",
    "    ----------\n",
    "    observations : array_like\n",
    "        An array of observations\n",
    "\n",
    "    Attributes\n",
    "    ----------\n",
    "    observations : array_like\n",
    "        An array of observations\n",
    "\n",
    "    \"\"\"\n",
    "\n",
    "    def __init__(self, observations):\n",
    "        self.observations = np.asarray(observations)\n",
    "\n",
    "    def __call__(self, x):\n",
    "        \"\"\"\n",
    "        Evaluates the ecdf at x\n",
    "\n",
    "        Parameters\n",
    "        ----------\n",
    "        x : scalar(float)\n",
    "            The x at which the ecdf is evaluated\n",
    "\n",
    "        Returns\n",
    "        -------\n",
    "        scalar(float)\n",
    "            Fraction of the sample less than x\n",
    "\n",
    "        \"\"\"\n",
    "        return np.mean(self.observations <= x)\n",
    "\n",
    "    def plot(self, ax, a=None, b=None):\n",
    "        \"\"\"\n",
    "        Plot the ecdf on the interval [a, b].\n",
    "\n",
    "        Parameters\n",
    "        ----------\n",
    "        a : scalar(float), optional(default=None)\n",
    "            Lower endpoint of the plot interval\n",
    "        b : scalar(float), optional(default=None)\n",
    "            Upper endpoint of the plot interval\n",
    "\n",
    "        \"\"\"\n",
    "\n",
    "        # === choose reasonable interval if [a, b] not specified === #\n",
    "        if a is None:\n",
    "            a = self.observations.min() - self.observations.std()\n",
    "        if b is None:\n",
    "            b = self.observations.max() + self.observations.std()\n",
    "\n",
    "        # === generate plot === #\n",
    "        x_vals = np.linspace(a, b, num=100)\n",
    "        f = np.vectorize(self.__call__)\n",
    "        ax.plot(x_vals, f(x_vals))\n",
    "        plt.show()"
   ]
  },
  {
   "cell_type": "code",
   "execution_count": null,
   "metadata": {},
   "outputs": [],
   "source": [
    "fig, ax = plt.subplots()\n",
    "X = np.random.randn(1000)\n",
    "F = ECDF(X)\n",
    "F.plot(ax)"
   ]
  },
  {
   "cell_type": "markdown",
   "metadata": {},
   "source": [
    "#SCIPY\n",
    "#https://docs.scipy.org/doc/scipy/reference/index.html\n",
    "#Integration\n",
    "![](integral.jpg)\n"
   ]
  },
  {
   "cell_type": "code",
   "execution_count": null,
   "metadata": {},
   "outputs": [],
   "source": [
    "import scipy.integrate as integrate\n",
    "import scipy.special as special\n",
    "result = integrate.quad(lambda x: special.jv(2.5,x), 0, 4.5)\n",
    "result"
   ]
  },
  {
   "cell_type": "markdown",
   "metadata": {},
   "source": [
    "#Linear algebra\n",
    "![](linalg.jpg)"
   ]
  },
  {
   "cell_type": "code",
   "execution_count": null,
   "metadata": {},
   "outputs": [],
   "source": [
    "import numpy as np\n",
    "from scipy import linalg\n",
    "a = np.array([[1, 3, 5], [2, 5, 1], [2, 3, 8]])\n",
    "b = np.array([10, 8, 3])\n",
    "from scipy import linalg\n",
    "x = linalg.solve(a, b)\n",
    "x"
   ]
  },
  {
   "cell_type": "code",
   "execution_count": null,
   "metadata": {},
   "outputs": [],
   "source": [
    "-9.28+(3*5.16)+(5*.76)"
   ]
  },
  {
   "cell_type": "code",
   "execution_count": null,
   "metadata": {},
   "outputs": [],
   "source": [
    "(-9.28*2)+(5*5.16)+.76"
   ]
  },
  {
   "cell_type": "code",
   "execution_count": null,
   "metadata": {},
   "outputs": [],
   "source": [
    "(-9.28*2)+(3*5.16)+(8*.76)"
   ]
  },
  {
   "cell_type": "code",
   "execution_count": 1,
   "metadata": {},
   "outputs": [],
   "source": [
    "#Statistics (RESTART KERNEL)\n",
    "from scipy import stats"
   ]
  },
  {
   "cell_type": "code",
   "execution_count": 3,
   "metadata": {},
   "outputs": [],
   "source": [
    "#Analyzing One Sample\n",
    "#Descriptive Statistics\n",
    "import numpy as np\n",
    "np.random.seed(282629734)\n",
    "x = stats.t.rvs(10, size=1000)"
   ]
  },
  {
   "cell_type": "code",
   "execution_count": 4,
   "metadata": {},
   "outputs": [
    {
     "name": "stdout",
     "output_type": "stream",
     "text": [
      "-3.7897557242248197\n",
      "5.263277329807165\n",
      "0.014061066398468422\n",
      "1.288993862079285\n"
     ]
    }
   ],
   "source": [
    "print(x.min())   # equivalent to np.min(x)\n",
    "print(x.max())   # equivalent to np.max(x)\n",
    "print(x.mean())  # equivalent to np.mean(x)\n",
    "print(x.var())   # equivalent to np.var(x))"
   ]
  },
  {
   "cell_type": "code",
   "execution_count": 5,
   "metadata": {},
   "outputs": [
    {
     "data": {
      "image/png": "[encoded data removed]",
      "text/plain": [
       "<Figure size 432x288 with 1 Axes>"
      ]
     },
     "metadata": {
      "needs_background": "light"
     },
     "output_type": "display_data"
    }
   ],
   "source": [
    "#Univariate estimation\n",
    "import matplotlib.pyplot as plt\n",
    "import numpy as np\n",
    "x1 = np.array([-7, -5, 1, 4, 5], dtype=np.float)\n",
    "kde1 = stats.gaussian_kde(x1)\n",
    "kde2 = stats.gaussian_kde(x1, bw_method='silverman')\n",
    "\n",
    "fig = plt.figure()\n",
    "ax = fig.add_subplot(111)\n",
    "ax.plot(x1, np.zeros(x1.shape), 'b+', ms=20)  # rug plot\n",
    "\n",
    "x_eval = np.linspace(-10, 10, num=200)\n",
    "ax.plot(x_eval, kde1(x_eval), 'k-', label=\"Scott's Rule\")\n",
    "ax.plot(x_eval, kde2(x_eval), 'r-', label=\"Silverman's Rule\")\n",
    "\n",
    "plt.show()"
   ]
  },
  {
   "cell_type": "code",
   "execution_count": 6,
   "metadata": {},
   "outputs": [],
   "source": [
    "#kernel-density estimate using Gaussian kernels\n",
    "#Kernel density estimation is a way to estimate the probability density function (PDF) of a random variable in a \n",
    "#non-parametric way. gaussian_kde works for both uni-variate and multi-variate data. \n",
    "#It includes automatic bandwidth determination. The estimation works best for a unimodal distribution; \n",
    "#bimodal or multi-modal distributions tend to be oversmoothed.\n",
    "\n",
    "#Generate some random two-dimensional data:\n",
    "\n",
    "from scipy import stats\n",
    "def measure(n):\n",
    "    \"Measurement model, return two coupled measurements.\"\n",
    "    m1 = np.random.normal(size=n)\n",
    "    m2 = np.random.normal(scale=0.5, size=n)\n",
    "    return m1+m2, m1-m2\n",
    "\n",
    "m1, m2 = measure(2000)\n",
    "xmin = m1.min()\n",
    "xmax = m1.max()\n",
    "ymin = m2.min()\n",
    "ymax = m2.max()"
   ]
  },
  {
   "cell_type": "code",
   "execution_count": 7,
   "metadata": {},
   "outputs": [],
   "source": [
    "#Perform a kernel density estimate on the data:\n",
    "\n",
    "X, Y = np.mgrid[xmin:xmax:100j, ymin:ymax:100j]\n",
    "positions = np.vstack([X.ravel(), Y.ravel()])\n",
    "values = np.vstack([m1, m2])\n",
    "kernel = stats.gaussian_kde(values)\n",
    "Z = np.reshape(kernel(positions).T, X.shape)"
   ]
  },
  {
   "cell_type": "code",
   "execution_count": 8,
   "metadata": {},
   "outputs": [
    {
     "data": {
      "image/png": "[encoded data removed]",
      "text/plain": [
       "<Figure size 432x288 with 1 Axes>"
      ]
     },
     "metadata": {
      "needs_background": "light"
     },
     "output_type": "display_data"
    }
   ],
   "source": [
    "#Plot the results\n",
    "import matplotlib.pyplot as plt\n",
    "fig, ax = plt.subplots()\n",
    "ax.imshow(np.rot90(Z), cmap=plt.cm.gist_earth_r,\n",
    "          extent=[xmin, xmax, ymin, ymax])\n",
    "ax.plot(m1, m2, 'k.', markersize=2)\n",
    "ax.set_xlim([xmin, xmax])\n",
    "ax.set_ylim([ymin, ymax])\n",
    "plt.show()"
   ]
  },
  {
   "cell_type": "code",
   "execution_count": null,
   "metadata": {},
   "outputs": [],
   "source": []
  }
 ],
 "metadata": {
  "kernelspec": {
   "display_name": "Python 3",
   "language": "python",
   "name": "python3"
  },
  "language_info": {
   "codemirror_mode": {
    "name": "ipython",
    "version": 3
   },
   "file_extension": ".py",
   "mimetype": "text/x-python",
   "name": "python",
   "nbconvert_exporter": "python",
   "pygments_lexer": "ipython3",
   "version": "3.7.3"
  }
 },
 "nbformat": 4,
 "nbformat_minor": 4
}
