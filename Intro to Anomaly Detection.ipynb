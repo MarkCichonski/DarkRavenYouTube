{
 "cells": [
  {
   "cell_type": "markdown",
   "metadata": {},
   "source": [
    "# Anomaly Detection in Python"
   ]
  },
  {
   "cell_type": "markdown",
   "metadata": {},
   "source": [
    "We will start off just by looking at the dataset from a _visual_ perspective and see if we can find the anomalies."
   ]
  },
  {
   "cell_type": "markdown",
   "metadata": {},
   "source": [
    "## Detecting anomalies just by seeing"
   ]
  },
  {
   "cell_type": "code",
   "execution_count": 1,
   "metadata": {},
   "outputs": [],
   "source": [
    "# Import the necessary packages\n",
    "import pandas as pd\n",
    "import numpy as np\n",
    "import matplotlib.pyplot as plt\n",
    "\n",
    "# Shpw the plots in your Jupyter Notebook\n",
    "%matplotlib inline\n",
    "# Use a predefined style set\n",
    "plt.style.use('ggplot')"
   ]
  },
  {
   "cell_type": "markdown",
   "metadata": {},
   "source": [
    "Let's first create a dummy dataset for ourselves. The dataset will contain just two columns - \n",
    "- Name of the employees of an organization\n",
    "- Salaries of those employees (in USD) within a range of 1000 to 2500 (Monthly)\n",
    "\n",
    "For generating the names (and make them look like the real ones) we will use a Python library called `Faker` (read the documentation [here](https://faker.readthedocs.io/en/latest/index.html)). For generating salaries, we will use the good old `numpy`. After generating these, we will merge them in a `pandas` DataFrame. We are going to generate records for 100 employees. Let's begin. \n",
    "\n",
    "**Note**: Creating dummy datasets for experimental purposes is indeed an essential skill."
   ]
  },
  {
   "cell_type": "code",
   "execution_count": null,
   "metadata": {},
   "outputs": [],
   "source": [
    "#install if needed, skip to next cell if already installed\n",
    "!pip install faker"
   ]
  },
  {
   "cell_type": "code",
   "execution_count": 2,
   "metadata": {},
   "outputs": [
    {
     "data": {
      "text/plain": [
       "100"
      ]
     },
     "execution_count": 2,
     "metadata": {},
     "output_type": "execute_result"
    }
   ],
   "source": [
    "from faker import Faker\n",
    "fake = Faker()\n",
    "\n",
    "# To ensure the results are reproducible\n",
    "#fake.seed(4321) TypeError: Calling `.seed()` on instances is deprecated. Use the class method `Faker.seed()` instead.\n",
    "Faker.seed(4321)\n",
    "\n",
    "names_list = []\n",
    "\n",
    "fake = Faker()\n",
    "for _ in range(100):\n",
    "  names_list.append(fake.name())\n",
    "\n",
    "# Verify if 100 names were generated\n",
    "len(names_list)"
   ]
  },
  {
   "cell_type": "code",
   "execution_count": 3,
   "metadata": {},
   "outputs": [
    {
     "data": {
      "text/plain": [
       "100"
      ]
     },
     "execution_count": 3,
     "metadata": {},
     "output_type": "execute_result"
    }
   ],
   "source": [
    "# To ensure the results are reproducible\n",
    "np.random.seed(7)\n",
    "\n",
    "salaries = []\n",
    "for _ in range(100):\n",
    "    salary = np.random.randint(1000,2500)\n",
    "    salaries.append(salary)\n",
    "\n",
    "    # Verify if 100 salariy values were generated\n",
    "len(salaries)"
   ]
  },
  {
   "cell_type": "code",
   "execution_count": 4,
   "metadata": {},
   "outputs": [
    {
     "data": {
      "text/html": [
       "<div>\n",
       "<style scoped>\n",
       "    .dataframe tbody tr th:only-of-type {\n",
       "        vertical-align: middle;\n",
       "    }\n",
       "\n",
       "    .dataframe tbody tr th {\n",
       "        vertical-align: top;\n",
       "    }\n",
       "\n",
       "    .dataframe thead th {\n",
       "        text-align: right;\n",
       "    }\n",
       "</style>\n",
       "<table border=\"1\" class=\"dataframe\">\n",
       "  <thead>\n",
       "    <tr style=\"text-align: right;\">\n",
       "      <th></th>\n",
       "      <th>Person</th>\n",
       "      <th>Salary (in USD)</th>\n",
       "    </tr>\n",
       "  </thead>\n",
       "  <tbody>\n",
       "    <tr>\n",
       "      <th>0</th>\n",
       "      <td>Jason Brown</td>\n",
       "      <td>1175</td>\n",
       "    </tr>\n",
       "    <tr>\n",
       "      <th>1</th>\n",
       "      <td>Jacob Stein</td>\n",
       "      <td>2220</td>\n",
       "    </tr>\n",
       "    <tr>\n",
       "      <th>2</th>\n",
       "      <td>Cody Brown</td>\n",
       "      <td>1537</td>\n",
       "    </tr>\n",
       "    <tr>\n",
       "      <th>3</th>\n",
       "      <td>Larry Morales</td>\n",
       "      <td>1502</td>\n",
       "    </tr>\n",
       "    <tr>\n",
       "      <th>4</th>\n",
       "      <td>Jessica Hendricks</td>\n",
       "      <td>1211</td>\n",
       "    </tr>\n",
       "  </tbody>\n",
       "</table>\n",
       "</div>"
      ],
      "text/plain": [
       "              Person  Salary (in USD)\n",
       "0        Jason Brown             1175\n",
       "1        Jacob Stein             2220\n",
       "2         Cody Brown             1537\n",
       "3      Larry Morales             1502\n",
       "4  Jessica Hendricks             1211"
      ]
     },
     "execution_count": 4,
     "metadata": {},
     "output_type": "execute_result"
    }
   ],
   "source": [
    "# Create pandas DataFrame\n",
    "salary_df = pd.DataFrame(\n",
    "    {'Person': names_list,\n",
    "     'Salary (in USD)': salaries\n",
    "    })\n",
    "\n",
    "# Print a subsection of the DataFrame\n",
    "salary_df.head()"
   ]
  },
  {
   "cell_type": "markdown",
   "metadata": {},
   "source": [
    "Let's now manually change the salary entries of two individuals. In reality, this can actually happen for a number of reasons such as the data recording software may have got corrupted at the time of recording the respective data."
   ]
  },
  {
   "cell_type": "code",
   "execution_count": 5,
   "metadata": {},
   "outputs": [],
   "source": [
    "salary_df.at[16, 'Salary (in USD)'] = 23\n",
    "salary_df.at[65, 'Salary (in USD)'] = 17"
   ]
  },
  {
   "cell_type": "code",
   "execution_count": 6,
   "metadata": {},
   "outputs": [
    {
     "name": "stdout",
     "output_type": "stream",
     "text": [
      "Person             Miss Amanda Harris MD\n",
      "Salary (in USD)                       23\n",
      "Name: 16, dtype: object\n",
      "Person             Joyce Bishop\n",
      "Salary (in USD)              17\n",
      "Name: 65, dtype: object\n"
     ]
    }
   ],
   "source": [
    "# Verify if the salaries were changed\n",
    "print(salary_df.loc[16])\n",
    "print(salary_df.loc[65])"
   ]
  },
  {
   "cell_type": "markdown",
   "metadata": {},
   "source": [
    "### Boxplots are great! "
   ]
  },
  {
   "cell_type": "markdown",
   "metadata": {},
   "source": [
    "As mentioned in the earlier sections, the generation of anomalies within data directly depends on the generation of the data points itself. To simulate this, our approach is good enough to proceed. Let's now some basic statistics (like minimum value, maximum value, 1st quartile values etc.) in the form of a boxplot. \n",
    "\n",
    "Boxplot, because we get the following information all in just one place t\n",
    "\n",
    "\n",
    "![](https://pro.arcgis.com/en/pro-app/help/analysis/geoprocessing/charts/GUID-0E2C3730-C535-40CD-8152-80D794A996A7-web.png)\n",
    "\n",
    "Courtesy: [This blog](https://pro.arcgis.com/en/pro-app/help/analysis/geoprocessing/charts/box-plot.htm)"
   ]
  },
  {
   "cell_type": "code",
   "execution_count": 7,
   "metadata": {},
   "outputs": [
    {
     "data": {
      "image/png": "[encoded data removed]",
      "text/plain": [
       "<Figure size 432x288 with 1 Axes>"
      ]
     },
     "metadata": {},
     "output_type": "display_data"
    }
   ],
   "source": [
    "salary_df['Salary (in USD)'].plot(kind='box')\n",
    "plt.show()"
   ]
  },
  {
   "cell_type": "markdown",
   "metadata": {},
   "source": [
    "Notice the tiny circle point in the bottom. You instantly get a feeling of something wrong in there as _it deviates hugely from the rest of the data_. Now, you decide to look at the data from another visual perspective i.e. in terms of _histograms_. "
   ]
  },
  {
   "cell_type": "markdown",
   "metadata": {},
   "source": [
    "### How about histograms? "
   ]
  },
  {
   "cell_type": "code",
   "execution_count": 8,
   "metadata": {},
   "outputs": [
    {
     "data": {
      "image/png": "[encoded data removed]",
      "text/plain": [
       "<Figure size 432x288 with 1 Axes>"
      ]
     },
     "metadata": {},
     "output_type": "display_data"
    }
   ],
   "source": [
    "ax = salary_df['Salary (in USD)'].plot(kind='hist')\n",
    "ax.set_xlabel('Salary (in USD)')\n",
    "plt.show()"
   ]
  },
  {
   "cell_type": "markdown",
   "metadata": {},
   "source": [
    "In the above histogram plot also, we can see there's one particular bin that is just not right _as it deviates hugely from the rest of the data_ (phrase repeated intentionally to put emphasis on the deviation part). We can also infer that there are only two employees for which the salaries seem to be distorted (look at the y-axis). "
   ]
  },
  {
   "cell_type": "markdown",
   "metadata": {},
   "source": [
    "So what might be an immediate way to confirm that the dataset contains anomalies? Let's take a look at the minimum and maximum values of the column `Salary (in USD)`.  "
   ]
  },
  {
   "cell_type": "code",
   "execution_count": 9,
   "metadata": {},
   "outputs": [
    {
     "name": "stdout",
     "output_type": "stream",
     "text": [
      "Minimum salary 17\n",
      "Maximum salary 2498\n"
     ]
    }
   ],
   "source": [
    "print('Minimum salary ' + str(salary_df['Salary (in USD)'].min()))\n",
    "print('Maximum salary ' + str(salary_df['Salary (in USD)'].max()))"
   ]
  },
  {
   "cell_type": "markdown",
   "metadata": {},
   "source": [
    "Look at the **minimum value**. From the payroll department of this hypothetical organization, you know that the minimum salary of an employee there is $1000. But you found out something different. Hence, its worth enough to conclude that this is indeed an anomaly. Let's now try to look at the data from a different perspective other than just simply plotting it. \n",
    "\n",
    "**Note**: Although our dataset contains only one feature (i.e. `Salary (in USD)`) that contains an anomaly, but in reality, there can be many features which will have anomalies in them. Visualizations will help you. "
   ]
  },
  {
   "cell_type": "markdown",
   "metadata": {},
   "source": [
    "## Clustering based approach for anomaly detection\n",
    "\n",
    "We have seen how clustering and anomaly detection are closely related but they serve different purposes. But clustering can be used for anomaly detection. In this approach, we start by grouping the similar kind of objects. Mathematically, this similarity is measured by distance measurement functions like Euclidean distance, Manhattan distance and so on. Euclidean distance is a very popular choice when choosing in between several distance measurement functions. Let's take a look at what Euclidean distance is all about. "
   ]
  },
  {
   "cell_type": "markdown",
   "metadata": {},
   "source": [
    "We are going to use [K-Means clustering](https://en.wikipedia.org/wiki/K-means_clustering) which will help us cluster the data points (salary values in our case). The implementation that we are going to be using for `KMeans` uses Euclidean distance internally. Let's get started. "
   ]
  },
  {
   "cell_type": "code",
   "execution_count": 10,
   "metadata": {},
   "outputs": [],
   "source": [
    "# Convert the salary values to a numpy array\n",
    "salary_raw = salary_df['Salary (in USD)'].values\n",
    "\n",
    "# For compatibility with the SciPy implementation\n",
    "#salary_raw = pok.reshape(-1, 1) pok is an error\n",
    "salary_raw = salary_raw.reshape(-1, 1)\n",
    "salary_raw = salary_raw.astype('float64')"
   ]
  },
  {
   "cell_type": "markdown",
   "metadata": {},
   "source": [
    "We will now import the `kmeans` module from `scipy.cluster.vq`. SciPy stands for Scientific Python and provides a variety of convenient utilities for performing scientific experiments. Follow its documentation [here](https://docs.scipy.org/doc/). We will then apply `KMeans` to `salary_raw`. "
   ]
  },
  {
   "cell_type": "code",
   "execution_count": 11,
   "metadata": {},
   "outputs": [],
   "source": [
    "from scipy.cluster.vq import kmeans \n",
    "from scipy.cluster.vq import vq #needed to add this line\n",
    "\n",
    "# Supply the data and the number of clusters to kmeans()\n",
    "codebook, distortion = kmeans(salary_raw, 4)"
   ]
  },
  {
   "cell_type": "markdown",
   "metadata": {},
   "source": [
    "In the above chunk of code, we fed the salary data points the `kmeans()`. We also specified the number of clusters to which we want to group the data points. `cookbook` is the centroids generated by `kmeans()` and `distortion` is the averagedEuclidean distance between the data points fed and the centroids generated by `kmeans()`. \n",
    "\n",
    "Let's assign the groups of the data points by calling th `vq()` method. It takes - \n",
    "- The data points\n",
    "- The centroid as generated by the clustering algorithm (`kmeans()` in our case)\n",
    "\n",
    "It then returns the groups of the data points and the distance between the observation and its nearest group."
   ]
  },
  {
   "cell_type": "code",
   "execution_count": 12,
   "metadata": {},
   "outputs": [],
   "source": [
    "#groups, cdist = cluster.vq.vq(salary_raw, codebook) just needed vq here\n",
    "groups, cdist = vq(salary_raw, codebook)"
   ]
  },
  {
   "cell_type": "markdown",
   "metadata": {},
   "source": [
    "Let's now plot the groups we have got. "
   ]
  },
  {
   "cell_type": "code",
   "execution_count": 13,
   "metadata": {
    "scrolled": true
   },
   "outputs": [
    {
     "data": {
      "image/png": "[encoded data removed]",
      "text/plain": [
       "<Figure size 432x288 with 1 Axes>"
      ]
     },
     "metadata": {},
     "output_type": "display_data"
    }
   ],
   "source": [
    "plt.scatter(salary_raw, np.arange(0,100), c=groups)\n",
    "plt.xlabel('Salaries in (USD)')\n",
    "plt.ylabel('Indices')\n",
    "plt.show()"
   ]
  },
  {
   "cell_type": "markdown",
   "metadata": {},
   "source": [
    "The above method for anomaly detection is purely [unsupervised](https://machinelearningmastery.com/supervised-and-unsupervised-machine-learning-algorithms/) in nature. If we had the class-labels of the data points, we could have easily converted this to a [supervised learning](https://machinelearningmastery.com/supervised-and-unsupervised-machine-learning-algorithms/) problem, specifically a _classification_ problem. "
   ]
  },
  {
   "cell_type": "markdown",
   "metadata": {},
   "source": [
    "# Real world example"
   ]
  },
  {
   "cell_type": "markdown",
   "metadata": {},
   "source": [
    "There was a lawsuit involving the amount of time children were detained by ICE.  We were asked to analyze the existing data to see if this was a standard practice."
   ]
  },
  {
   "cell_type": "code",
   "execution_count": 14,
   "metadata": {},
   "outputs": [
    {
     "name": "stderr",
     "output_type": "stream",
     "text": [
      "C:\\Users\\Mark Cichonski\\Anaconda3\\lib\\site-packages\\IPython\\core\\interactiveshell.py:3072: DtypeWarning: Columns (2,7,8,9) have mixed types.Specify dtype option on import or set low_memory=False.\n",
      "  interactivity=interactivity, compiler=compiler, result=result)\n"
     ]
    }
   ],
   "source": [
    "#Read in Data\n",
    "#https://data.world/government/us-customs-and-border-protection-child-detentions-2017-20/discuss/us-customs-and-border-protection-child-detentions-2017-20/li3kopgi\n",
    "import pandas as pd\n",
    "df2=pd.read_csv('cbp.csv')"
   ]
  },
  {
   "cell_type": "code",
   "execution_count": 15,
   "metadata": {},
   "outputs": [
    {
     "data": {
      "text/html": [
       "<div>\n",
       "<style scoped>\n",
       "    .dataframe tbody tr th:only-of-type {\n",
       "        vertical-align: middle;\n",
       "    }\n",
       "\n",
       "    .dataframe tbody tr th {\n",
       "        vertical-align: top;\n",
       "    }\n",
       "\n",
       "    .dataframe thead th {\n",
       "        text-align: right;\n",
       "    }\n",
       "</style>\n",
       "<table border=\"1\" class=\"dataframe\">\n",
       "  <thead>\n",
       "    <tr style=\"text-align: right;\">\n",
       "      <th></th>\n",
       "      <th>date_in</th>\n",
       "      <th>date_out</th>\n",
       "      <th>app_date</th>\n",
       "      <th>hours_in_custody</th>\n",
       "      <th>age_group</th>\n",
       "      <th>gender</th>\n",
       "      <th>citizenship</th>\n",
       "      <th>border</th>\n",
       "      <th>sector</th>\n",
       "      <th>field_office</th>\n",
       "      <th>source</th>\n",
       "    </tr>\n",
       "  </thead>\n",
       "  <tbody>\n",
       "    <tr>\n",
       "      <th>0</th>\n",
       "      <td>2017-01-20 00:10:00</td>\n",
       "      <td>2017-01-20 10:08:00</td>\n",
       "      <td>NaN</td>\n",
       "      <td>9.950000</td>\n",
       "      <td>6-8 years</td>\n",
       "      <td>Female</td>\n",
       "      <td>EL SALVADOR</td>\n",
       "      <td>SBO</td>\n",
       "      <td>(b)(7)(E )</td>\n",
       "      <td>NaN</td>\n",
       "      <td>BP</td>\n",
       "    </tr>\n",
       "    <tr>\n",
       "      <th>1</th>\n",
       "      <td>2017-01-20 00:15:00</td>\n",
       "      <td>2017-01-24 17:30:00</td>\n",
       "      <td>NaN</td>\n",
       "      <td>113.233333</td>\n",
       "      <td>3-5 years</td>\n",
       "      <td>Female</td>\n",
       "      <td>GUATEMALA</td>\n",
       "      <td>SBO</td>\n",
       "      <td>(b)(7)(E )</td>\n",
       "      <td>NaN</td>\n",
       "      <td>BP</td>\n",
       "    </tr>\n",
       "    <tr>\n",
       "      <th>2</th>\n",
       "      <td>2017-01-20 00:22:00</td>\n",
       "      <td>2017-01-24 17:47:00</td>\n",
       "      <td>NaN</td>\n",
       "      <td>113.416667</td>\n",
       "      <td>3-5 years</td>\n",
       "      <td>Female</td>\n",
       "      <td>BRAZIL</td>\n",
       "      <td>SBO</td>\n",
       "      <td>(b)(7)(E )</td>\n",
       "      <td>NaN</td>\n",
       "      <td>BP</td>\n",
       "    </tr>\n",
       "    <tr>\n",
       "      <th>3</th>\n",
       "      <td>2017-01-20 00:30:00</td>\n",
       "      <td>2017-01-21 06:35:00</td>\n",
       "      <td>NaN</td>\n",
       "      <td>30.083333</td>\n",
       "      <td>12-14 years</td>\n",
       "      <td>Male</td>\n",
       "      <td>EL SALVADOR</td>\n",
       "      <td>SBO</td>\n",
       "      <td>(b)(7)(E )</td>\n",
       "      <td>NaN</td>\n",
       "      <td>BP</td>\n",
       "    </tr>\n",
       "    <tr>\n",
       "      <th>4</th>\n",
       "      <td>2017-01-20 00:30:00</td>\n",
       "      <td>2017-01-21 13:03:00</td>\n",
       "      <td>NaN</td>\n",
       "      <td>36.533333</td>\n",
       "      <td>3-5 years</td>\n",
       "      <td>Male</td>\n",
       "      <td>HONDURAS</td>\n",
       "      <td>SBO</td>\n",
       "      <td>(b)(7)(E )</td>\n",
       "      <td>NaN</td>\n",
       "      <td>BP</td>\n",
       "    </tr>\n",
       "  </tbody>\n",
       "</table>\n",
       "</div>"
      ],
      "text/plain": [
       "               date_in             date_out app_date  hours_in_custody  \\\n",
       "0  2017-01-20 00:10:00  2017-01-20 10:08:00      NaN          9.950000   \n",
       "1  2017-01-20 00:15:00  2017-01-24 17:30:00      NaN        113.233333   \n",
       "2  2017-01-20 00:22:00  2017-01-24 17:47:00      NaN        113.416667   \n",
       "3  2017-01-20 00:30:00  2017-01-21 06:35:00      NaN         30.083333   \n",
       "4  2017-01-20 00:30:00  2017-01-21 13:03:00      NaN         36.533333   \n",
       "\n",
       "     age_group  gender  citizenship border      sector field_office source  \n",
       "0    6-8 years  Female  EL SALVADOR    SBO  (b)(7)(E )          NaN     BP  \n",
       "1    3-5 years  Female    GUATEMALA    SBO  (b)(7)(E )          NaN     BP  \n",
       "2    3-5 years  Female       BRAZIL    SBO  (b)(7)(E )          NaN     BP  \n",
       "3  12-14 years    Male  EL SALVADOR    SBO  (b)(7)(E )          NaN     BP  \n",
       "4    3-5 years    Male     HONDURAS    SBO  (b)(7)(E )          NaN     BP  "
      ]
     },
     "execution_count": 15,
     "metadata": {},
     "output_type": "execute_result"
    }
   ],
   "source": [
    "df2.head()"
   ]
  },
  {
   "cell_type": "code",
   "execution_count": 16,
   "metadata": {},
   "outputs": [
    {
     "data": {
      "text/plain": [
       "(583808, 11)"
      ]
     },
     "execution_count": 16,
     "metadata": {},
     "output_type": "execute_result"
    }
   ],
   "source": [
    "df2.shape"
   ]
  },
  {
   "cell_type": "code",
   "execution_count": 17,
   "metadata": {
    "scrolled": true
   },
   "outputs": [
    {
     "data": {
      "text/html": [
       "<div>\n",
       "<style scoped>\n",
       "    .dataframe tbody tr th:only-of-type {\n",
       "        vertical-align: middle;\n",
       "    }\n",
       "\n",
       "    .dataframe tbody tr th {\n",
       "        vertical-align: top;\n",
       "    }\n",
       "\n",
       "    .dataframe thead th {\n",
       "        text-align: right;\n",
       "    }\n",
       "</style>\n",
       "<table border=\"1\" class=\"dataframe\">\n",
       "  <thead>\n",
       "    <tr style=\"text-align: right;\">\n",
       "      <th></th>\n",
       "      <th>hours_in_custody</th>\n",
       "    </tr>\n",
       "  </thead>\n",
       "  <tbody>\n",
       "    <tr>\n",
       "      <th>count</th>\n",
       "      <td>583093.000000</td>\n",
       "    </tr>\n",
       "    <tr>\n",
       "      <th>mean</th>\n",
       "      <td>65.019625</td>\n",
       "    </tr>\n",
       "    <tr>\n",
       "      <th>std</th>\n",
       "      <td>81.249861</td>\n",
       "    </tr>\n",
       "    <tr>\n",
       "      <th>min</th>\n",
       "      <td>-13.820000</td>\n",
       "    </tr>\n",
       "    <tr>\n",
       "      <th>25%</th>\n",
       "      <td>31.016667</td>\n",
       "    </tr>\n",
       "    <tr>\n",
       "      <th>50%</th>\n",
       "      <td>53.083333</td>\n",
       "    </tr>\n",
       "    <tr>\n",
       "      <th>75%</th>\n",
       "      <td>85.900000</td>\n",
       "    </tr>\n",
       "    <tr>\n",
       "      <th>max</th>\n",
       "      <td>27576.080000</td>\n",
       "    </tr>\n",
       "  </tbody>\n",
       "</table>\n",
       "</div>"
      ],
      "text/plain": [
       "       hours_in_custody\n",
       "count     583093.000000\n",
       "mean          65.019625\n",
       "std           81.249861\n",
       "min          -13.820000\n",
       "25%           31.016667\n",
       "50%           53.083333\n",
       "75%           85.900000\n",
       "max        27576.080000"
      ]
     },
     "execution_count": 17,
     "metadata": {},
     "output_type": "execute_result"
    }
   ],
   "source": [
    "df2.describe()"
   ]
  },
  {
   "cell_type": "code",
   "execution_count": 18,
   "metadata": {},
   "outputs": [
    {
     "data": {
      "image/png": "[encoded data removed]",
      "text/plain": [
       "<Figure size 432x288 with 1 Axes>"
      ]
     },
     "metadata": {},
     "output_type": "display_data"
    }
   ],
   "source": [
    "df2['hours_in_custody'].plot(kind='box')\n",
    "plt.show()"
   ]
  },
  {
   "cell_type": "markdown",
   "metadata": {},
   "source": [
    "Initial plot shows many outliers with the 50th percentile and maximum and minimum with low variation compared to the high valued outliers.  Let's investigate further. "
   ]
  },
  {
   "cell_type": "code",
   "execution_count": 19,
   "metadata": {},
   "outputs": [
    {
     "data": {
      "image/png": "[encoded data removed]",
      "text/plain": [
       "<Figure size 432x288 with 1 Axes>"
      ]
     },
     "metadata": {},
     "output_type": "display_data"
    }
   ],
   "source": [
    "#let's remove the outliers\n",
    "df2['hours_in_custody'].plot(kind='box', showfliers=False)\n",
    "plt.show()"
   ]
  },
  {
   "cell_type": "markdown",
   "metadata": {},
   "source": [
    "Clearly the maximum being around 170 hours compared to the outliers over 25000, let's take a closer look."
   ]
  },
  {
   "cell_type": "code",
   "execution_count": 20,
   "metadata": {},
   "outputs": [
    {
     "data": {
      "image/png": "[encoded data removed]",
      "text/plain": [
       "<Figure size 432x288 with 1 Axes>"
      ]
     },
     "metadata": {},
     "output_type": "display_data"
    }
   ],
   "source": [
    "df2.boxplot(column='hours_in_custody',by='gender')\n",
    "plt.show()"
   ]
  },
  {
   "cell_type": "markdown",
   "metadata": {},
   "source": [
    "Interesting that there are two types of codings for gender, and the outliers are in the gender \"-\" categories."
   ]
  },
  {
   "cell_type": "code",
   "execution_count": 21,
   "metadata": {
    "scrolled": true
   },
   "outputs": [
    {
     "data": {
      "text/plain": [
       "<AxesSubplot:title={'center':'hours_in_custody'}, xlabel='gender'>"
      ]
     },
     "execution_count": 21,
     "metadata": {},
     "output_type": "execute_result"
    },
    {
     "data": {
      "image/png": "[encoded data removed]",
      "text/plain": [
       "<Figure size 432x288 with 1 Axes>"
      ]
     },
     "metadata": {},
     "output_type": "display_data"
    }
   ],
   "source": [
    "#Let's look at with the removed outliers\n",
    "df2.boxplot(column='hours_in_custody',by='gender', showfliers=False)"
   ]
  },
  {
   "cell_type": "code",
   "execution_count": 22,
   "metadata": {},
   "outputs": [
    {
     "data": {
      "text/plain": [
       "<AxesSubplot:title={'center':'hours_in_custody'}, xlabel='citizenship'>"
      ]
     },
     "execution_count": 22,
     "metadata": {},
     "output_type": "execute_result"
    },
    {
     "data": {
      "image/png": "[encoded data removed]",
      "text/plain": [
       "<Figure size 432x288 with 1 Axes>"
      ]
     },
     "metadata": {},
     "output_type": "display_data"
    }
   ],
   "source": [
    "#Let's look at quickly by country of origin\n",
    "df2.boxplot(column='hours_in_custody',by='citizenship')"
   ]
  },
  {
   "cell_type": "markdown",
   "metadata": {},
   "source": [
    "Besides the large number of countries of origin, it seems most of the variation is coming from 4 different countries.  Let's see if we can lock down on those"
   ]
  },
  {
   "cell_type": "code",
   "execution_count": 23,
   "metadata": {},
   "outputs": [],
   "source": [
    "#Let's create a new dataframe with values over 500 hours\n",
    "df3=df2.loc[df2['hours_in_custody'] >= 500]"
   ]
  },
  {
   "cell_type": "code",
   "execution_count": 24,
   "metadata": {},
   "outputs": [
    {
     "data": {
      "text/html": [
       "<div>\n",
       "<style scoped>\n",
       "    .dataframe tbody tr th:only-of-type {\n",
       "        vertical-align: middle;\n",
       "    }\n",
       "\n",
       "    .dataframe tbody tr th {\n",
       "        vertical-align: top;\n",
       "    }\n",
       "\n",
       "    .dataframe thead th {\n",
       "        text-align: right;\n",
       "    }\n",
       "</style>\n",
       "<table border=\"1\" class=\"dataframe\">\n",
       "  <thead>\n",
       "    <tr style=\"text-align: right;\">\n",
       "      <th></th>\n",
       "      <th>date_in</th>\n",
       "      <th>date_out</th>\n",
       "      <th>app_date</th>\n",
       "      <th>hours_in_custody</th>\n",
       "      <th>age_group</th>\n",
       "      <th>gender</th>\n",
       "      <th>citizenship</th>\n",
       "      <th>border</th>\n",
       "      <th>sector</th>\n",
       "      <th>field_office</th>\n",
       "      <th>source</th>\n",
       "    </tr>\n",
       "  </thead>\n",
       "  <tbody>\n",
       "    <tr>\n",
       "      <th>8807</th>\n",
       "      <td>2017-03-29 21:39:00</td>\n",
       "      <td>2017-05-01 12:38:00</td>\n",
       "      <td>NaN</td>\n",
       "      <td>782.966667</td>\n",
       "      <td>1-2 years</td>\n",
       "      <td>Male</td>\n",
       "      <td>GUATEMALA</td>\n",
       "      <td>SBO</td>\n",
       "      <td>(b)(7)(E )</td>\n",
       "      <td>NaN</td>\n",
       "      <td>BP</td>\n",
       "    </tr>\n",
       "    <tr>\n",
       "      <th>28146</th>\n",
       "      <td>2017-09-12 23:05:00</td>\n",
       "      <td>2017-10-18 16:23:00</td>\n",
       "      <td>NaN</td>\n",
       "      <td>857.300000</td>\n",
       "      <td>15-18 years</td>\n",
       "      <td>Male</td>\n",
       "      <td>MEXICO</td>\n",
       "      <td>SBO</td>\n",
       "      <td>(b)(7)(E )</td>\n",
       "      <td>NaN</td>\n",
       "      <td>BP</td>\n",
       "    </tr>\n",
       "    <tr>\n",
       "      <th>32645</th>\n",
       "      <td>2017-10-10 15:10:00</td>\n",
       "      <td>2017-11-04 12:30:00</td>\n",
       "      <td>NaN</td>\n",
       "      <td>589.500000</td>\n",
       "      <td>15-18 years</td>\n",
       "      <td>Female</td>\n",
       "      <td>MEXICO</td>\n",
       "      <td>SBO</td>\n",
       "      <td>(b)(7)(E )</td>\n",
       "      <td>NaN</td>\n",
       "      <td>BP</td>\n",
       "    </tr>\n",
       "    <tr>\n",
       "      <th>41928</th>\n",
       "      <td>2017-11-21 17:15:00</td>\n",
       "      <td>2017-12-12 15:42:00</td>\n",
       "      <td>NaN</td>\n",
       "      <td>502.433333</td>\n",
       "      <td>6-8 years</td>\n",
       "      <td>Female</td>\n",
       "      <td>EL SALVADOR</td>\n",
       "      <td>SBO</td>\n",
       "      <td>(b)(7)(E )</td>\n",
       "      <td>NaN</td>\n",
       "      <td>BP</td>\n",
       "    </tr>\n",
       "    <tr>\n",
       "      <th>83685</th>\n",
       "      <td>2018-05-01 01:55:00</td>\n",
       "      <td>2018-06-03 13:43:00</td>\n",
       "      <td>NaN</td>\n",
       "      <td>803.783333</td>\n",
       "      <td>9-11 years</td>\n",
       "      <td>Female</td>\n",
       "      <td>GUATEMALA</td>\n",
       "      <td>SBO</td>\n",
       "      <td>(b)(7)(E )</td>\n",
       "      <td>NaN</td>\n",
       "      <td>BP</td>\n",
       "    </tr>\n",
       "  </tbody>\n",
       "</table>\n",
       "</div>"
      ],
      "text/plain": [
       "                   date_in             date_out app_date  hours_in_custody  \\\n",
       "8807   2017-03-29 21:39:00  2017-05-01 12:38:00      NaN        782.966667   \n",
       "28146  2017-09-12 23:05:00  2017-10-18 16:23:00      NaN        857.300000   \n",
       "32645  2017-10-10 15:10:00  2017-11-04 12:30:00      NaN        589.500000   \n",
       "41928  2017-11-21 17:15:00  2017-12-12 15:42:00      NaN        502.433333   \n",
       "83685  2018-05-01 01:55:00  2018-06-03 13:43:00      NaN        803.783333   \n",
       "\n",
       "         age_group  gender  citizenship border      sector field_office source  \n",
       "8807     1-2 years    Male    GUATEMALA    SBO  (b)(7)(E )          NaN     BP  \n",
       "28146  15-18 years    Male       MEXICO    SBO  (b)(7)(E )          NaN     BP  \n",
       "32645  15-18 years  Female       MEXICO    SBO  (b)(7)(E )          NaN     BP  \n",
       "41928    6-8 years  Female  EL SALVADOR    SBO  (b)(7)(E )          NaN     BP  \n",
       "83685   9-11 years  Female    GUATEMALA    SBO  (b)(7)(E )          NaN     BP  "
      ]
     },
     "execution_count": 24,
     "metadata": {},
     "output_type": "execute_result"
    }
   ],
   "source": [
    "df3.head()"
   ]
  },
  {
   "cell_type": "markdown",
   "metadata": {},
   "source": [
    "There are two different sources for these child detentions: CBP Office of Field Operations (OFO) and CBP Border Patrol (BP). Let's take a look at those."
   ]
  },
  {
   "cell_type": "code",
   "execution_count": 25,
   "metadata": {},
   "outputs": [
    {
     "data": {
      "text/plain": [
       "BP     692\n",
       "OFO     28\n",
       "Name: source, dtype: int64"
      ]
     },
     "execution_count": 25,
     "metadata": {},
     "output_type": "execute_result"
    }
   ],
   "source": [
    "source=df3.source.value_counts()\n",
    "source"
   ]
  },
  {
   "cell_type": "code",
   "execution_count": 26,
   "metadata": {},
   "outputs": [
    {
     "data": {
      "text/plain": [
       "<AxesSubplot:title={'center':'hours_in_custody'}, xlabel='source'>"
      ]
     },
     "execution_count": 26,
     "metadata": {},
     "output_type": "execute_result"
    },
    {
     "data": {
      "image/png": "[encoded data removed]",
      "text/plain": [
       "<Figure size 432x288 with 1 Axes>"
      ]
     },
     "metadata": {},
     "output_type": "display_data"
    }
   ],
   "source": [
    "df3.boxplot(column='hours_in_custody',by='source')"
   ]
  },
  {
   "cell_type": "code",
   "execution_count": 27,
   "metadata": {},
   "outputs": [
    {
     "data": {
      "text/plain": [
       "<AxesSubplot:title={'center':'hours_in_custody'}, xlabel='source'>"
      ]
     },
     "execution_count": 27,
     "metadata": {},
     "output_type": "execute_result"
    },
    {
     "data": {
      "image/png": "[encoded data removed]",
      "text/plain": [
       "<Figure size 432x288 with 1 Axes>"
      ]
     },
     "metadata": {},
     "output_type": "display_data"
    }
   ],
   "source": [
    "#without the outliers\n",
    "df3.boxplot(column='hours_in_custody',by='source', showfliers=False)"
   ]
  },
  {
   "cell_type": "markdown",
   "metadata": {},
   "source": [
    "Interesing that there is so much more variation in the OFO, let's focus on that."
   ]
  },
  {
   "cell_type": "code",
   "execution_count": 28,
   "metadata": {},
   "outputs": [
    {
     "data": {
      "text/html": [
       "<div>\n",
       "<style scoped>\n",
       "    .dataframe tbody tr th:only-of-type {\n",
       "        vertical-align: middle;\n",
       "    }\n",
       "\n",
       "    .dataframe tbody tr th {\n",
       "        vertical-align: top;\n",
       "    }\n",
       "\n",
       "    .dataframe thead th {\n",
       "        text-align: right;\n",
       "    }\n",
       "</style>\n",
       "<table border=\"1\" class=\"dataframe\">\n",
       "  <thead>\n",
       "    <tr style=\"text-align: right;\">\n",
       "      <th></th>\n",
       "      <th>date_in</th>\n",
       "      <th>date_out</th>\n",
       "      <th>app_date</th>\n",
       "      <th>hours_in_custody</th>\n",
       "      <th>age_group</th>\n",
       "      <th>gender</th>\n",
       "      <th>citizenship</th>\n",
       "      <th>border</th>\n",
       "      <th>sector</th>\n",
       "      <th>field_office</th>\n",
       "      <th>source</th>\n",
       "    </tr>\n",
       "  </thead>\n",
       "  <tbody>\n",
       "    <tr>\n",
       "      <th>488818</th>\n",
       "      <td>2017-01-17 14:04:00</td>\n",
       "      <td>2017-01-21 11:29:00</td>\n",
       "      <td>2017-01-20 09:32:31</td>\n",
       "      <td>93.42</td>\n",
       "      <td>3-5 years</td>\n",
       "      <td>M - MALE</td>\n",
       "      <td>GUATEMALA</td>\n",
       "      <td>NaN</td>\n",
       "      <td>NaN</td>\n",
       "      <td>EL PASO</td>\n",
       "      <td>OFO</td>\n",
       "    </tr>\n",
       "    <tr>\n",
       "      <th>488819</th>\n",
       "      <td>2017-01-17 17:33:00</td>\n",
       "      <td>2017-01-21 08:20:00</td>\n",
       "      <td>2017-01-20 08:39:48</td>\n",
       "      <td>86.78</td>\n",
       "      <td>6-8 years</td>\n",
       "      <td>M - MALE</td>\n",
       "      <td>GUATEMALA</td>\n",
       "      <td>NaN</td>\n",
       "      <td>NaN</td>\n",
       "      <td>EL PASO</td>\n",
       "      <td>OFO</td>\n",
       "    </tr>\n",
       "    <tr>\n",
       "      <th>488820</th>\n",
       "      <td>2017-01-17 17:41:00</td>\n",
       "      <td>2017-01-21 08:20:00</td>\n",
       "      <td>2017-01-20 08:41:02</td>\n",
       "      <td>86.65</td>\n",
       "      <td>6-8 years</td>\n",
       "      <td>F - FEMALE</td>\n",
       "      <td>GUATEMALA</td>\n",
       "      <td>NaN</td>\n",
       "      <td>NaN</td>\n",
       "      <td>EL PASO</td>\n",
       "      <td>OFO</td>\n",
       "    </tr>\n",
       "    <tr>\n",
       "      <th>488821</th>\n",
       "      <td>2017-01-17 17:44:00</td>\n",
       "      <td>2017-01-21 08:20:00</td>\n",
       "      <td>2017-01-20 08:50:42</td>\n",
       "      <td>86.60</td>\n",
       "      <td>1-2 years</td>\n",
       "      <td>M - MALE</td>\n",
       "      <td>GUATEMALA</td>\n",
       "      <td>NaN</td>\n",
       "      <td>NaN</td>\n",
       "      <td>EL PASO</td>\n",
       "      <td>OFO</td>\n",
       "    </tr>\n",
       "    <tr>\n",
       "      <th>488822</th>\n",
       "      <td>2017-01-17 19:13:00</td>\n",
       "      <td>2017-01-24 11:30:00</td>\n",
       "      <td>2017-01-20 14:28:00</td>\n",
       "      <td>160.28</td>\n",
       "      <td>9-11 years</td>\n",
       "      <td>M - MALE</td>\n",
       "      <td>MEXICO</td>\n",
       "      <td>NaN</td>\n",
       "      <td>NaN</td>\n",
       "      <td>EL PASO</td>\n",
       "      <td>OFO</td>\n",
       "    </tr>\n",
       "  </tbody>\n",
       "</table>\n",
       "</div>"
      ],
      "text/plain": [
       "                    date_in             date_out             app_date  \\\n",
       "488818  2017-01-17 14:04:00  2017-01-21 11:29:00  2017-01-20 09:32:31   \n",
       "488819  2017-01-17 17:33:00  2017-01-21 08:20:00  2017-01-20 08:39:48   \n",
       "488820  2017-01-17 17:41:00  2017-01-21 08:20:00  2017-01-20 08:41:02   \n",
       "488821  2017-01-17 17:44:00  2017-01-21 08:20:00  2017-01-20 08:50:42   \n",
       "488822  2017-01-17 19:13:00  2017-01-24 11:30:00  2017-01-20 14:28:00   \n",
       "\n",
       "        hours_in_custody   age_group      gender citizenship border sector  \\\n",
       "488818             93.42   3-5 years    M - MALE   GUATEMALA    NaN    NaN   \n",
       "488819             86.78   6-8 years    M - MALE   GUATEMALA    NaN    NaN   \n",
       "488820             86.65   6-8 years  F - FEMALE   GUATEMALA    NaN    NaN   \n",
       "488821             86.60   1-2 years    M - MALE   GUATEMALA    NaN    NaN   \n",
       "488822            160.28  9-11 years    M - MALE      MEXICO    NaN    NaN   \n",
       "\n",
       "       field_office source  \n",
       "488818      EL PASO    OFO  \n",
       "488819      EL PASO    OFO  \n",
       "488820      EL PASO    OFO  \n",
       "488821      EL PASO    OFO  \n",
       "488822      EL PASO    OFO  "
      ]
     },
     "execution_count": 28,
     "metadata": {},
     "output_type": "execute_result"
    }
   ],
   "source": [
    "#Let's create a data frame with just the OFO data\n",
    "df4=df2.loc[df2['source'] == 'OFO']\n",
    "df4.head()"
   ]
  },
  {
   "cell_type": "code",
   "execution_count": 29,
   "metadata": {},
   "outputs": [
    {
     "data": {
      "text/plain": [
       "(94990, 11)"
      ]
     },
     "execution_count": 29,
     "metadata": {},
     "output_type": "execute_result"
    }
   ],
   "source": [
    "df4.shape"
   ]
  },
  {
   "cell_type": "code",
   "execution_count": 30,
   "metadata": {},
   "outputs": [],
   "source": [
    "# Convert the hours in custody values to a numpy array\n",
    "hours_raw = df4['hours_in_custody'].values\n",
    "\n",
    "# For compatibility with the SciPy implementation\n",
    "hours_raw = hours_raw.reshape(-1, 1)\n",
    "hours_raw = hours_raw.astype('float64')"
   ]
  },
  {
   "cell_type": "code",
   "execution_count": 32,
   "metadata": {},
   "outputs": [
    {
     "data": {
      "text/plain": [
       "True"
      ]
     },
     "execution_count": 32,
     "metadata": {},
     "output_type": "execute_result"
    }
   ],
   "source": [
    "#Check for any inf or NaN values\n",
    "np.isnan(hours_raw).any()"
   ]
  },
  {
   "cell_type": "code",
   "execution_count": 33,
   "metadata": {},
   "outputs": [],
   "source": [
    "#remove NaN\n",
    "hours_raw = hours_raw[~np.isnan(hours_raw)]"
   ]
  },
  {
   "cell_type": "code",
   "execution_count": 34,
   "metadata": {},
   "outputs": [
    {
     "data": {
      "text/plain": [
       "False"
      ]
     },
     "execution_count": 34,
     "metadata": {},
     "output_type": "execute_result"
    }
   ],
   "source": [
    "#Check for any inf or NaN values\n",
    "np.isnan(hours_raw).any()"
   ]
  },
  {
   "cell_type": "code",
   "execution_count": 38,
   "metadata": {},
   "outputs": [],
   "source": [
    "from scipy.cluster.vq import kmeans \n",
    "from scipy.cluster.vq import vq #needed to add this line\n",
    "\n",
    "# Supply the data and the number of clusters (let's start with 4) to kmeans()\n",
    "codebook, distortion = kmeans(hours_raw, 8)"
   ]
  },
  {
   "cell_type": "code",
   "execution_count": 39,
   "metadata": {},
   "outputs": [],
   "source": [
    "#groups, cdist = cluster.vq.vq(salary_raw, codebook) just needed vq here\n",
    "groups, cdist = vq(hours_raw, codebook)"
   ]
  },
  {
   "cell_type": "code",
   "execution_count": 40,
   "metadata": {},
   "outputs": [
    {
     "data": {
      "image/png": "[encoded data removed]",
      "text/plain": [
       "<Figure size 432x288 with 1 Axes>"
      ]
     },
     "metadata": {},
     "output_type": "display_data"
    }
   ],
   "source": [
    "plt.scatter(hours_raw, np.arange(0,94987), c=groups)\n",
    "plt.xlabel('Hours in Custody')\n",
    "plt.ylabel('Indices')\n",
    "plt.show()"
   ]
  },
  {
   "cell_type": "code",
   "execution_count": null,
   "metadata": {},
   "outputs": [],
   "source": []
  }
 ],
 "metadata": {
  "kernelspec": {
   "display_name": "Python 3",
   "language": "python",
   "name": "python3"
  },
  "language_info": {
   "codemirror_mode": {
    "name": "ipython",
    "version": 3
   },
   "file_extension": ".py",
   "mimetype": "text/x-python",
   "name": "python",
   "nbconvert_exporter": "python",
   "pygments_lexer": "ipython3",
   "version": "3.7.3"
  },
  "latex_envs": {
   "LaTeX_envs_menu_present": true,
   "autoclose": false,
   "autocomplete": true,
   "bibliofile": "biblio.bib",
   "cite_by": "apalike",
   "current_citInitial": 1,
   "eqLabelWithNumbers": true,
   "eqNumInitial": 1,
   "hotkeys": {
    "equation": "Ctrl-E",
    "itemize": "Ctrl-I"
   },
   "labels_anchors": false,
   "latex_user_defs": false,
   "report_style_numbering": false,
   "user_envs_cfg": false
  },
  "toc": {
   "base_numbering": 1,
   "nav_menu": {},
   "number_sections": false,
   "sideBar": true,
   "skip_h1_title": false,
   "title_cell": "Table of Contents",
   "title_sidebar": "Contents",
   "toc_cell": false,
   "toc_position": {},
   "toc_section_display": true,
   "toc_window_display": false
  }
 },
 "nbformat": 4,
 "nbformat_minor": 2
}
